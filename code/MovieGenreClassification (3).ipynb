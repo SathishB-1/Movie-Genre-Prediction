{
 "cells": [
  {
   "cell_type": "code",
   "execution_count": 3,
   "id": "ae59cbaf-9f28-4bdf-8407-8187b24f8753",
   "metadata": {},
   "outputs": [
    {
     "name": "stdout",
     "output_type": "stream",
     "text": [
      "Validation Accuracy: 0.5016\n",
      "\n",
      "Classification Report:\n",
      "               precision    recall  f1-score   support\n",
      "\n",
      "      action        0.50      0.11      0.18         9\n",
      "       adult        0.00      0.00      0.00         4\n",
      "   adventure        1.00      0.20      0.33         5\n",
      "   animation        0.00      0.00      0.00         4\n",
      "   biography        0.00      0.00      0.00         1\n",
      "      comedy        0.34      0.31      0.32        39\n",
      "       crime        0.00      0.00      0.00         4\n",
      " documentary        0.55      0.88      0.67        80\n",
      "       drama        0.47      0.75      0.57        72\n",
      "      family        0.00      0.00      0.00         4\n",
      "     fantasy        0.00      0.00      0.00         1\n",
      "      horror        0.62      0.57      0.59        14\n",
      "       music        1.00      0.17      0.29         6\n",
      "     mystery        0.00      0.00      0.00         1\n",
      "        news        0.00      0.00      0.00         2\n",
      "  reality-tv        0.33      0.17      0.22         6\n",
      "     romance        0.00      0.00      0.00         4\n",
      "      sci-fi        0.00      0.00      0.00         5\n",
      "       short        0.70      0.20      0.31        35\n",
      "       sport        0.00      0.00      0.00         1\n",
      "   talk-show        0.00      0.00      0.00         2\n",
      "    thriller        0.14      0.08      0.10        13\n",
      "     western        1.00      0.56      0.71         9\n",
      "\n",
      "     accuracy                           0.50       321\n",
      "    macro avg       0.29      0.17      0.19       321\n",
      " weighted avg       0.47      0.50      0.44       321\n",
      "\n",
      "          ID                             TITLE PREDICTED_GENRE\n",
      "0          1             Edgar's Lunch (1998)          comedy \n",
      "1          2         La guerra de papá (1977)           drama \n",
      "2          3      Off the Beaten Track (2010)     documentary \n",
      "3          4           Meu Amigo Hindu (2015)           drama \n",
      "4          5                Er nu zhai (1955)           drama \n",
      "...      ...                               ...             ...\n",
      "54195  54196   \"Tales of Light & Dark\" (2013)           drama \n",
      "54196  54197      Der letzte Mohikaner (1965)           drama \n",
      "54197  54198              Oliver Twink (2007)          comedy \n",
      "54198  54199                Slipstream (1973)     documentary \n",
      "54199  54200        Curitiba Zero Grau (2010)     documentary \n",
      "\n",
      "[54200 rows x 3 columns]\n"
     ]
    },
    {
     "name": "stderr",
     "output_type": "stream",
     "text": [
      "C:\\anaconda\\Lib\\site-packages\\sklearn\\metrics\\_classification.py:1531: UndefinedMetricWarning: Precision is ill-defined and being set to 0.0 in labels with no predicted samples. Use `zero_division` parameter to control this behavior.\n",
      "  _warn_prf(average, modifier, f\"{metric.capitalize()} is\", len(result))\n",
      "C:\\anaconda\\Lib\\site-packages\\sklearn\\metrics\\_classification.py:1531: UndefinedMetricWarning: Precision is ill-defined and being set to 0.0 in labels with no predicted samples. Use `zero_division` parameter to control this behavior.\n",
      "  _warn_prf(average, modifier, f\"{metric.capitalize()} is\", len(result))\n",
      "C:\\anaconda\\Lib\\site-packages\\sklearn\\metrics\\_classification.py:1531: UndefinedMetricWarning: Precision is ill-defined and being set to 0.0 in labels with no predicted samples. Use `zero_division` parameter to control this behavior.\n",
      "  _warn_prf(average, modifier, f\"{metric.capitalize()} is\", len(result))\n"
     ]
    }
   ],
   "source": [
    "import pandas as pd\n",
    "from sklearn.model_selection import train_test_split\n",
    "from sklearn.feature_extraction.text import TfidfVectorizer\n",
    "from sklearn.linear_model import LogisticRegression\n",
    "from sklearn.metrics import classification_report, accuracy_score\n",
    "\n",
    "# Load data \n",
    "train_df=pd.read_csv(\"Downloads/Mahaan_Crystal_Clear_320kbps_isaimini.one/MovieGenrePrediction/Genre Classification Dataset/train_data.txt\",sep=\":::\",engine='python',names=[\"ID\",\"TITLE\",\"GENRE\",\"DESCRIPTION\"])\n",
    "test_df=pd.read_csv(\"Downloads/Mahaan_Crystal_Clear_320kbps_isaimini.one/MovieGenrePrediction/Genre Classification Dataset/test_data.txt\",sep=\":::\",engine='python',names=[\"ID\",\"TITLE\",\"DESCRIPTION\"])\n",
    "\n",
    "\n",
    "X=train_df['DESCRIPTION']\n",
    "y=train_df['GENRE']\n",
    "\n",
    "# TF-IDF vectorization: Convert text data into numerical data\n",
    "vectorizer=TfidfVectorizer(\n",
    "    stop_words='english',\n",
    "    max_features=10000,     \n",
    "    ngram_range=(1, 2)     \n",
    ")\n",
    "\n",
    "# Fit and transform the train data, and transform the test data\n",
    "\n",
    "X_vec=vectorizer.fit_transform(X)\n",
    "X_test_vec=vectorizer.transform(test_df['DESCRIPTION'])\n",
    "\n",
    "# Train-validation split \n",
    "X_train,X_val,y_train,y_val=train_test_split(X_vec,y,test_size=0.2,random_state=42)\n",
    "\n",
    "# Logistic Regression model with class weights to handle imbalanced data\n",
    "\n",
    "model = LogisticRegression(\n",
    "    C=5.0,                \n",
    "    max_iter=2000,         \n",
    "    solver='liblinear',   \n",
    "    class_weight='balanced'  \n",
    ")\n",
    "\n",
    "# Train the model\n",
    "model.fit(X_train,y_train)\n",
    "\n",
    "# Make predictions on the validation set\n",
    "y_pred=model.predict(X_val)\n",
    "\n",
    "# Calculate accuracy and print classification report\n",
    "accuracy=accuracy_score(y_val,y_pred)\n",
    "print(f\"Validation Accuracy: {accuracy:.4f}\")\n",
    "\n",
    "print(\"\\nClassification Report:\")\n",
    "print(classification_report(y_val,y_pred))\n",
    "\n",
    "\n",
    "# Predict on the test set (if required)\n",
    "y_test_pred=model.predict(X_test_vec)\n",
    "\n",
    "# Output predictions\n",
    "test_df[\"PREDICTED_GENRE\"]=y_test_pred\n",
    "print(test_df[[\"ID\",\"TITLE\",\"PREDICTED_GENRE\"]])\n"
   ]
  },
  {
   "cell_type": "code",
   "execution_count": 5,
   "id": "637a4c5c-4bc2-4cf2-a549-49aad9ef7b09",
   "metadata": {},
   "outputs": [],
   "source": [
    "y_test_pred=model.predict(X_test_vec)"
   ]
  },
  {
   "cell_type": "code",
   "execution_count": 7,
   "id": "4b6aeee0-7446-4a4d-ac66-2f0db4b34c49",
   "metadata": {},
   "outputs": [
    {
     "data": {
      "text/plain": [
       "array([' comedy ', ' drama ', ' documentary ', ..., ' comedy ',\n",
       "       ' documentary ', ' documentary '], dtype=object)"
      ]
     },
     "execution_count": 7,
     "metadata": {},
     "output_type": "execute_result"
    }
   ],
   "source": [
    "y_test_pred "
   ]
  },
  {
   "cell_type": "code",
   "execution_count": 9,
   "id": "c035fc18-d328-4532-91a7-816133426d4e",
   "metadata": {},
   "outputs": [
    {
     "name": "stdout",
     "output_type": "stream",
     "text": [
      "Predictions saved to svm_predictions.csv\n"
     ]
    }
   ],
   "source": [
    "test_df[['ID','TITLE','PREDICTED_GENRE']].to_csv(\"svm_predictions.csv\",index=False)\n",
    "print(\"Predictions saved to svm_predictions.csv\")"
   ]
  },
  {
   "cell_type": "code",
   "execution_count": 11,
   "id": "7e1b9cc5-48a0-4306-8334-ac5960d0854c",
   "metadata": {},
   "outputs": [
    {
     "ename": "FileNotFoundError",
     "evalue": "[Errno 2] No such file or directory: 'model/movie_genre_model.pkl'",
     "output_type": "error",
     "traceback": [
      "\u001b[1;31m---------------------------------------------------------------------------\u001b[0m",
      "\u001b[1;31mFileNotFoundError\u001b[0m                         Traceback (most recent call last)",
      "Cell \u001b[1;32mIn[11], line 4\u001b[0m\n\u001b[0;32m      1\u001b[0m \u001b[38;5;28;01mimport\u001b[39;00m \u001b[38;5;21;01mjoblib\u001b[39;00m\n\u001b[0;32m      3\u001b[0m \u001b[38;5;66;03m# Save the trained model\u001b[39;00m\n\u001b[1;32m----> 4\u001b[0m joblib\u001b[38;5;241m.\u001b[39mdump(model, \u001b[38;5;124m\"\u001b[39m\u001b[38;5;124mmodel/movie_genre_model.pkl\u001b[39m\u001b[38;5;124m\"\u001b[39m)\n\u001b[0;32m      6\u001b[0m \u001b[38;5;66;03m# Save the TF-IDF vectorizer\u001b[39;00m\n\u001b[0;32m      7\u001b[0m joblib\u001b[38;5;241m.\u001b[39mdump(vectorizer, \u001b[38;5;124m\"\u001b[39m\u001b[38;5;124mmodel/tfidf_vectorizer.pkl\u001b[39m\u001b[38;5;124m\"\u001b[39m)\n",
      "File \u001b[1;32mC:\\anaconda\\Lib\\site-packages\\joblib\\numpy_pickle.py:552\u001b[0m, in \u001b[0;36mdump\u001b[1;34m(value, filename, compress, protocol, cache_size)\u001b[0m\n\u001b[0;32m    550\u001b[0m         NumpyPickler(f, protocol\u001b[38;5;241m=\u001b[39mprotocol)\u001b[38;5;241m.\u001b[39mdump(value)\n\u001b[0;32m    551\u001b[0m \u001b[38;5;28;01melif\u001b[39;00m is_filename:\n\u001b[1;32m--> 552\u001b[0m     \u001b[38;5;28;01mwith\u001b[39;00m \u001b[38;5;28mopen\u001b[39m(filename, \u001b[38;5;124m'\u001b[39m\u001b[38;5;124mwb\u001b[39m\u001b[38;5;124m'\u001b[39m) \u001b[38;5;28;01mas\u001b[39;00m f:\n\u001b[0;32m    553\u001b[0m         NumpyPickler(f, protocol\u001b[38;5;241m=\u001b[39mprotocol)\u001b[38;5;241m.\u001b[39mdump(value)\n\u001b[0;32m    554\u001b[0m \u001b[38;5;28;01melse\u001b[39;00m:\n",
      "\u001b[1;31mFileNotFoundError\u001b[0m: [Errno 2] No such file or directory: 'model/movie_genre_model.pkl'"
     ]
    }
   ],
   "source": [
    "import joblib\n",
    "\n",
    "# Save the trained model\n",
    "joblib.dump(model, \"model/movie_genre_model.pkl\")\n",
    "\n",
    "# Save the TF-IDF vectorizer\n",
    "joblib.dump(vectorizer, \"model/tfidf_vectorizer.pkl\")\n",
    "\n",
    "print(\" Model and vectorizer saved successfully.\")\n"
   ]
  },
  {
   "cell_type": "code",
   "execution_count": null,
   "id": "6118838c-cb23-4738-ab53-42d88cdbe881",
   "metadata": {},
   "outputs": [],
   "source": []
  }
 ],
 "metadata": {
  "kernelspec": {
   "display_name": "Python 3 (ipykernel)",
   "language": "python",
   "name": "python3"
  },
  "language_info": {
   "codemirror_mode": {
    "name": "ipython",
    "version": 3
   },
   "file_extension": ".py",
   "mimetype": "text/x-python",
   "name": "python",
   "nbconvert_exporter": "python",
   "pygments_lexer": "ipython3",
   "version": "3.12.7"
  }
 },
 "nbformat": 4,
 "nbformat_minor": 5
}
