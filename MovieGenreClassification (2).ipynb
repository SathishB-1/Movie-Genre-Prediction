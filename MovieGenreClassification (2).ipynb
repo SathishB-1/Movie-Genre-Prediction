{
 "cells": [
  {
   "cell_type": "code",
   "execution_count": 1,
   "id": "ae59cbaf-9f28-4bdf-8407-8187b24f8753",
   "metadata": {},
   "outputs": [
    {
     "name": "stderr",
     "output_type": "stream",
     "text": [
      "C:\\Users\\sathi\\AppData\\Local\\Temp\\ipykernel_2680\\2616315573.py:8: ParserWarning: Falling back to the 'python' engine because the 'c' engine does not support regex separators (separators > 1 char and different from '\\s+' are interpreted as regex); you can avoid this warning by specifying engine='python'.\n",
      "  train_df=pd.read_csv(\"Downloads/Mahaan_Crystal_Clear_320kbps_isaimini.one/MovieGenrePrediction/Genre Classification Dataset/train_data.txt\",sep=\":::\",names=[\"ID\",\"TITLE\",\"GENRE\",\"DESCRIPTION\"])\n",
      "C:\\Users\\sathi\\AppData\\Local\\Temp\\ipykernel_2680\\2616315573.py:9: ParserWarning: Falling back to the 'python' engine because the 'c' engine does not support regex separators (separators > 1 char and different from '\\s+' are interpreted as regex); you can avoid this warning by specifying engine='python'.\n",
      "  test_df=pd.read_csv(\"Downloads/Mahaan_Crystal_Clear_320kbps_isaimini.one/MovieGenrePrediction/Genre Classification Dataset/test_data.txt\",sep=\":::\",names=[\"ID\",\"TITLE\",\"DESCRIPTION\"])\n"
     ]
    },
    {
     "name": "stdout",
     "output_type": "stream",
     "text": [
      "Validation Accuracy: 0.5016\n",
      "\n",
      "Classification Report:\n",
      "               precision    recall  f1-score   support\n",
      "\n",
      "      action        0.50      0.11      0.18         9\n",
      "       adult        0.00      0.00      0.00         4\n",
      "   adventure        1.00      0.20      0.33         5\n",
      "   animation        0.00      0.00      0.00         4\n",
      "   biography        0.00      0.00      0.00         1\n",
      "      comedy        0.34      0.31      0.32        39\n",
      "       crime        0.00      0.00      0.00         4\n",
      " documentary        0.55      0.88      0.67        80\n",
      "       drama        0.47      0.75      0.57        72\n",
      "      family        0.00      0.00      0.00         4\n",
      "     fantasy        0.00      0.00      0.00         1\n",
      "      horror        0.62      0.57      0.59        14\n",
      "       music        1.00      0.17      0.29         6\n",
      "     mystery        0.00      0.00      0.00         1\n",
      "        news        0.00      0.00      0.00         2\n",
      "  reality-tv        0.33      0.17      0.22         6\n",
      "     romance        0.00      0.00      0.00         4\n",
      "      sci-fi        0.00      0.00      0.00         5\n",
      "       short        0.70      0.20      0.31        35\n",
      "       sport        0.00      0.00      0.00         1\n",
      "   talk-show        0.00      0.00      0.00         2\n",
      "    thriller        0.14      0.08      0.10        13\n",
      "     western        1.00      0.56      0.71         9\n",
      "\n",
      "     accuracy                           0.50       321\n",
      "    macro avg       0.29      0.17      0.19       321\n",
      " weighted avg       0.47      0.50      0.44       321\n",
      "\n"
     ]
    },
    {
     "name": "stderr",
     "output_type": "stream",
     "text": [
      "C:\\anaconda\\Lib\\site-packages\\sklearn\\metrics\\_classification.py:1531: UndefinedMetricWarning: Precision is ill-defined and being set to 0.0 in labels with no predicted samples. Use `zero_division` parameter to control this behavior.\n",
      "  _warn_prf(average, modifier, f\"{metric.capitalize()} is\", len(result))\n",
      "C:\\anaconda\\Lib\\site-packages\\sklearn\\metrics\\_classification.py:1531: UndefinedMetricWarning: Precision is ill-defined and being set to 0.0 in labels with no predicted samples. Use `zero_division` parameter to control this behavior.\n",
      "  _warn_prf(average, modifier, f\"{metric.capitalize()} is\", len(result))\n",
      "C:\\anaconda\\Lib\\site-packages\\sklearn\\metrics\\_classification.py:1531: UndefinedMetricWarning: Precision is ill-defined and being set to 0.0 in labels with no predicted samples. Use `zero_division` parameter to control this behavior.\n",
      "  _warn_prf(average, modifier, f\"{metric.capitalize()} is\", len(result))\n"
     ]
    },
    {
     "name": "stdout",
     "output_type": "stream",
     "text": [
      "          ID                             TITLE PREDICTED_GENRE\n",
      "0          1             Edgar's Lunch (1998)          comedy \n",
      "1          2         La guerra de papá (1977)           drama \n",
      "2          3      Off the Beaten Track (2010)     documentary \n",
      "3          4           Meu Amigo Hindu (2015)           drama \n",
      "4          5                Er nu zhai (1955)           drama \n",
      "...      ...                               ...             ...\n",
      "54195  54196   \"Tales of Light & Dark\" (2013)           drama \n",
      "54196  54197      Der letzte Mohikaner (1965)           drama \n",
      "54197  54198              Oliver Twink (2007)          comedy \n",
      "54198  54199                Slipstream (1973)     documentary \n",
      "54199  54200        Curitiba Zero Grau (2010)     documentary \n",
      "\n",
      "[54200 rows x 3 columns]\n"
     ]
    }
   ],
   "source": [
    "import pandas as pd\n",
    "from sklearn.model_selection import train_test_split\n",
    "from sklearn.feature_extraction.text import TfidfVectorizer\n",
    "from sklearn.linear_model import LogisticRegression\n",
    "from sklearn.metrics import classification_report, accuracy_score\n",
    "\n",
    "# Load data \n",
    "train_df=pd.read_csv(\"Downloads/Mahaan_Crystal_Clear_320kbps_isaimini.one/MovieGenrePrediction/Genre Classification Dataset/train_data.txt\",sep=\":::\",names=[\"ID\",\"TITLE\",\"GENRE\",\"DESCRIPTION\"])\n",
    "test_df=pd.read_csv(\"Downloads/Mahaan_Crystal_Clear_320kbps_isaimini.one/MovieGenrePrediction/Genre Classification Dataset/test_data.txt\",sep=\":::\",names=[\"ID\",\"TITLE\",\"DESCRIPTION\"])\n",
    "\n",
    "\n",
    "X=train_df['DESCRIPTION']\n",
    "y=train_df['GENRE']\n",
    "\n",
    "# TF-IDF vectorization: Convert text data into numerical data\n",
    "vectorizer=TfidfVectorizer(\n",
    "    stop_words='english',\n",
    "    max_features=10000,     \n",
    "    ngram_range=(1, 2)     \n",
    ")\n",
    "\n",
    "# Fit and transform the train data, and transform the test data\n",
    "\n",
    "X_vec=vectorizer.fit_transform(X)\n",
    "X_test_vec=vectorizer.transform(test_df['DESCRIPTION'])\n",
    "\n",
    "# Train-validation split \n",
    "X_train,X_val,y_train,y_val=train_test_split(X_vec,y,test_size=0.2,random_state=42)\n",
    "\n",
    "# Logistic Regression model with class weights to handle imbalanced data\n",
    "\n",
    "model = LogisticRegression(\n",
    "    C=5.0,                \n",
    "    max_iter=2000,         \n",
    "    solver='liblinear',   \n",
    "    class_weight='balanced'  \n",
    ")\n",
    "\n",
    "# Train the model\n",
    "model.fit(X_train,y_train)\n",
    "\n",
    "# Make predictions on the validation set\n",
    "y_pred=model.predict(X_val)\n",
    "\n",
    "# Calculate accuracy and print classification report\n",
    "accuracy=accuracy_score(y_val,y_pred)\n",
    "print(f\"Validation Accuracy: {accuracy:.4f}\")\n",
    "\n",
    "print(\"\\nClassification Report:\")\n",
    "print(classification_report(y_val,y_pred))\n",
    "\n",
    "\n",
    "# Predict on the test set (if required)\n",
    "y_test_pred=model.predict(X_test_vec)\n",
    "\n",
    "# Output predictions\n",
    "test_df[\"PREDICTED_GENRE\"]=y_test_pred\n",
    "print(test_df[[\"ID\",\"TITLE\",\"PREDICTED_GENRE\"]])\n"
   ]
  },
  {
   "cell_type": "code",
   "execution_count": 53,
   "id": "637a4c5c-4bc2-4cf2-a549-49aad9ef7b09",
   "metadata": {},
   "outputs": [],
   "source": [
    "y_test_pred=model.predict(X_test_vec)"
   ]
  },
  {
   "cell_type": "code",
   "execution_count": 55,
   "id": "4b6aeee0-7446-4a4d-ac66-2f0db4b34c49",
   "metadata": {},
   "outputs": [
    {
     "data": {
      "text/plain": [
       "array([' comedy ', ' drama ', ' documentary ', ..., ' comedy ',\n",
       "       ' documentary ', ' documentary '], dtype=object)"
      ]
     },
     "execution_count": 55,
     "metadata": {},
     "output_type": "execute_result"
    }
   ],
   "source": [
    "y_test_pred "
   ]
  },
  {
   "cell_type": "code",
   "execution_count": 57,
   "id": "c035fc18-d328-4532-91a7-816133426d4e",
   "metadata": {},
   "outputs": [
    {
     "name": "stdout",
     "output_type": "stream",
     "text": [
      "Predictions saved to svm_predictions.csv\n"
     ]
    }
   ],
   "source": [
    "test_df[['ID','TITLE','PREDICTED_GENRE']].to_csv(\"svm_predictions3.csv\",index=False)\n",
    "print(\"Predictions saved to svm_predictions.csv\")"
   ]
  }
 ],
 "metadata": {
  "kernelspec": {
   "display_name": "Python 3 (ipykernel)",
   "language": "python",
   "name": "python3"
  },
  "language_info": {
   "codemirror_mode": {
    "name": "ipython",
    "version": 3
   },
   "file_extension": ".py",
   "mimetype": "text/x-python",
   "name": "python",
   "nbconvert_exporter": "python",
   "pygments_lexer": "ipython3",
   "version": "3.12.7"
  }
 },
 "nbformat": 4,
 "nbformat_minor": 5
}
